{
 "cells": [
  {
   "cell_type": "markdown",
   "metadata": {
    "colab_type": "text",
    "id": "pzIk_n8ZKaL_"
   },
   "source": [
    "# Data Preprocessing and Exploring\n"
   ]
  },
  {
   "cell_type": "markdown",
   "metadata": {
    "colab_type": "text",
    "id": "wWQCigycaLBQ"
   },
   "source": [
    "## Imports"
   ]
  },
  {
   "cell_type": "code",
   "execution_count": 1,
   "metadata": {
    "colab": {
     "base_uri": "https://localhost:8080/",
     "height": 35
    },
    "colab_type": "code",
    "id": "8ZY8-p-20YuY",
    "outputId": "d40dfea5-8cf9-4966-b1be-07dc4e0db524"
   },
   "outputs": [],
   "source": [
    "import tensorflow as tf\n",
    "from tensorflow.keras.layers import Input, Reshape, Dropout, Dense \n",
    "from tensorflow.keras.layers import Flatten, BatchNormalization\n",
    "from tensorflow.keras.layers import Activation, ZeroPadding2D\n",
    "from tensorflow.keras.layers import LeakyReLU\n",
    "from tensorflow.keras.layers import UpSampling2D, Conv2D\n",
    "from tensorflow.keras.models import Sequential, Model, load_model\n",
    "from tensorflow.keras.optimizers import Adam\n",
    "import numpy as np\n",
    "import pandas as pd\n",
    "from PIL import Image\n",
    "from tqdm import tqdm\n",
    "import os \n",
    "import time\n",
    "import matplotlib.pyplot as plt\n",
    "\n",
    "from tensorflow.keras.utils import plot_model\n",
    "from numpy import expand_dims\n",
    "from numpy import zeros\n",
    "from numpy import ones\n",
    "from numpy.random import randn\n",
    "from numpy.random import randint\n",
    "\n",
    "from keras.optimizers import Adam\n",
    "from keras.models import Model\n",
    "from keras.layers import Input\n",
    "from keras.layers import Dense\n",
    "from keras.layers import Reshape\n",
    "from keras.layers import Flatten\n",
    "from keras.layers import Conv2D\n",
    "from keras.layers import Conv2DTranspose\n",
    "from keras.layers import LeakyReLU\n",
    "from keras.layers import ReLU, BatchNormalization\n",
    "from keras.layers import Dropout\n",
    "from keras.layers import Embedding\n",
    "from keras.layers import Concatenate\n",
    "\n",
    "from tensorflow.keras.preprocessing.image import ImageDataGenerator"
   ]
  },
  {
   "cell_type": "code",
   "execution_count": 102,
   "metadata": {},
   "outputs": [],
   "source": [
    "# Directory of the whole Project, including images, checkpoints and model evaluations\n",
    "FACEDATADIR = \"G:/Datasets/Celeb_faces\"\n",
    "\n",
    "# Sub-directories of the FACEDATADIR directory\n",
    "CSVPATH =  os.path.join(FACEDATADIR, \"Anno\") # home of the self-generated csv file\n",
    "CHECKPOINTS = os.path.join(FACEDATADIR, \"checkpoints\") # saving the model checkpoints (weights)\n",
    "NUMPY_FILES =  os.path.join(FACEDATADIR, \"categorical\") # home of the .npy training files\n",
    "LOG =  os.path.join(FACEDATADIR, \"training_log\") # logs much of the training like loss and latent vectors\n",
    "IMAGES =  os.path.join(FACEDATADIR, \"images\") # used for GENERATED images, not the training data\n",
    "DATA_PATH = os.path.join(FACEDATADIR, \"celeba\") # extract just all the celeba pictures into this folder\n",
    "\n",
    "# Sub-directories of the IMAGES directory\n",
    "FULL_SAVE = os.path.join(IMAGES, \"full\")\n",
    "CLASSES_SAVE = os.path.join(IMAGES, \"classes\")\n",
    "DISCR_SAVE = os.path.join(IMAGES, \"discr\")\n",
    "RANDOM_SAVE = os.path.join(IMAGES, \"random\")\n",
    "LATENT_SAVE = os.path.join(IMAGES, \"latent_space\")\n",
    "\n",
    "# Provided on the Github and in the .zip file\n",
    "df = pd.read_csv(os.path.join(CSVPATH,\"list_attr_celeba_2.csv\"), delimiter=\";\")"
   ]
  },
  {
   "cell_type": "markdown",
   "metadata": {},
   "source": [
    "## Exploration"
   ]
  },
  {
   "cell_type": "markdown",
   "metadata": {},
   "source": [
    "### How many attributes / picture on average"
   ]
  },
  {
   "cell_type": "code",
   "execution_count": 3,
   "metadata": {},
   "outputs": [],
   "source": [
    "no_fn = df.drop(\"filename\", axis=1)"
   ]
  },
  {
   "cell_type": "code",
   "execution_count": 4,
   "metadata": {},
   "outputs": [],
   "source": [
    "avg = no_fn.add(1,axis=0).sum(axis=1).apply(lambda x: x//2).aggregate(\"average\")\n",
    "std = no_fn.add(1,axis=0).sum(axis=1).apply(lambda x: x//2).aggregate(np.std)\n",
    "df_min = no_fn.add(1,axis=0).sum(axis=1).apply(lambda x: x//2).aggregate(np.min)\n",
    "df_max = no_fn.add(1,axis=0).sum(axis=1).apply(lambda x: x//2).aggregate(np.max)\n",
    "counts_series = no_fn.add(1,axis=0).sum(axis=1).apply(lambda x: x//2)"
   ]
  },
  {
   "cell_type": "code",
   "execution_count": 5,
   "metadata": {},
   "outputs": [
    {
     "name": "stdout",
     "output_type": "stream",
     "text": [
      "Only one attribute: \t003259.jpg\n",
      "Twenty attribute: \t014308.jpg\n"
     ]
    }
   ],
   "source": [
    "# Get the Indices of the highest and lowest amount of attributes per person\n",
    "low_index = counts_series[counts_series==1].index[0]\n",
    "high_index = counts_series[counts_series==20].index[0]\n",
    "\n",
    "# Get the corresponding image-filenames\n",
    "print(f\"Only one attribute: \\t{df.iloc[low_index].filename}\")\n",
    "print(f\"Twenty attribute: \\t{df.iloc[high_index].filename}\")"
   ]
  },
  {
   "cell_type": "code",
   "execution_count": 6,
   "metadata": {},
   "outputs": [
    {
     "name": "stdout",
     "output_type": "stream",
     "text": [
      "Average of Attributes/Person: \t9.03\n",
      "Std of Attributes/Person: \t2.94\n",
      "Lowest amount of attributes: \t1\n",
      "Highest amount of attributes: \t20\n"
     ]
    }
   ],
   "source": [
    "print(f\"Average of Attributes/Person: \\t{np.round(avg, decimals = 2)}\")\n",
    "print(f\"Std of Attributes/Person: \\t{np.round(std, decimals = 2)}\")\n",
    "print(f\"Lowest amount of attributes: \\t{np.round(df_min, decimals = 2)}\")\n",
    "print(f\"Highest amount of attributes: \\t{np.round(df_max, decimals = 2)}\")"
   ]
  },
  {
   "cell_type": "code",
   "execution_count": 7,
   "metadata": {},
   "outputs": [
    {
     "data": {
      "image/png": "[encoded data removed]",
      "text/plain": [
       "<Figure size 700x400 with 1 Axes>"
      ]
     },
     "metadata": {
      "needs_background": "light"
     },
     "output_type": "display_data"
    }
   ],
   "source": [
    "fig = plt.figure(figsize=(7,4),dpi=100)\n",
    "plt.rc('axes', axisbelow=True)\n",
    "plt.hist(counts_series, bins=20, color = \"#900d0d\", edgecolor= \"black\", range=(0,20))\n",
    "plt.grid()\n",
    "plt.xlabel(\"Amount of Positive Attributes per Person\")\n",
    "plt.ylabel(\"Occurrences\")\n",
    "plt.savefig(os.path.join(IMAGES,\"attributes_histo.png\"), dpi=300)\n",
    "plt.show()"
   ]
  },
  {
   "cell_type": "markdown",
   "metadata": {},
   "source": [
    "### Distribution of Attributes"
   ]
  },
  {
   "cell_type": "code",
   "execution_count": 8,
   "metadata": {},
   "outputs": [],
   "source": [
    "import colorsys"
   ]
  },
  {
   "cell_type": "code",
   "execution_count": 9,
   "metadata": {},
   "outputs": [],
   "source": [
    "no_fn = df.drop(\"filename\", axis=1)"
   ]
  },
  {
   "cell_type": "code",
   "execution_count": 10,
   "metadata": {},
   "outputs": [],
   "source": [
    "totals = no_fn.add(1,axis=0).sum(axis=0)//2"
   ]
  },
  {
   "cell_type": "code",
   "execution_count": 11,
   "metadata": {},
   "outputs": [],
   "source": [
    "value = list(np.linspace(0.3,0.8, num=40))\n",
    "N = 40\n",
    "HSV_tuples = [(0.01, 0.9, value[x]) for x in range(N)]\n",
    "RGB_tuples = map(lambda x: colorsys.hsv_to_rgb(*x), HSV_tuples)\n",
    "list_rgb = list(RGB_tuples)[::-1]"
   ]
  },
  {
   "cell_type": "code",
   "execution_count": 12,
   "metadata": {},
   "outputs": [
    {
     "data": {
      "image/png": "[encoded data removed]",
      "text/plain": [
       "<Figure size 900x400 with 1 Axes>"
      ]
     },
     "metadata": {
      "needs_background": "light"
     },
     "output_type": "display_data"
    }
   ],
   "source": [
    "fig = plt.figure(figsize=(9,4),dpi=100)\n",
    "\n",
    "plt.rc('axes', axisbelow=True)\n",
    "plt.grid()\n",
    "barlist = plt.bar(totals.sort_values(ascending=False).index, totals.sort_values(ascending=False), align=\"center\", edgecolor=\"black\")\n",
    "plt.xticks(rotation='vertical')\n",
    "for i in range(len(barlist)):\n",
    "    barlist[i].set_color(list_rgb[i])\n",
    "    barlist[i].set_edgecolor(\"black\")\n",
    "plt.ylabel(\"Total Occurrences\")\n",
    "plt.tight_layout()\n",
    "plt.savefig(os.path.join(IMAGES,\"attributes_distr.png\"), dpi=300)\n",
    "plt.show()"
   ]
  },
  {
   "cell_type": "markdown",
   "metadata": {},
   "source": [
    "## Create numpy files"
   ]
  },
  {
   "cell_type": "markdown",
   "metadata": {},
   "source": [
    "Here we create .npy files from the celeba images for training the model. Using a Data Loader was too inefficient in regards to running time. Therefore we had to settle on a subset of data."
   ]
  },
  {
   "cell_type": "code",
   "execution_count": null,
   "metadata": {},
   "outputs": [],
   "source": [
    "GENERATE_RES = 4 # Generation resolution factor \n",
    "# (1=32, 2=64, 3=96, 4=128, etc.)\n",
    "GENERATE_SQUARE = 32 * GENERATE_RES\n",
    "IMAGE_CHANNELS = 3\n",
    "\n",
    "targets = [\"Eyeglasses\", \"Rosy_Cheeks\", \"Goatee\"]\n",
    "\n",
    "for col in targets:\n",
    "    examplesize = 12000\n",
    "    df_col = df[df[col]==1]\n",
    "    \n",
    "    #Only sample examplesize many when there are actually that many instances\n",
    "    if(df_col[\"filename\"].shape[0] >= examplesize):\n",
    "        listdir_x = list(df_col[\"filename\"].sample(examplesize, replace=False, random_state=1337))\n",
    "    else:\n",
    "        listdir_x = list(df_col[\"filename\"])\n",
    "        examplesize = len(listdir_x)\n",
    "        \n",
    "    print(f\"Attribute {col} found {examplesize} examples.\")\n",
    "\n",
    "    training_binary_path = os.path.join(NUMPY_FILES,\n",
    "            f'training_data_{GENERATE_SQUARE}_{GENERATE_SQUARE}_{col}_{examplesize}.npy')\n",
    "\n",
    "    print(f\"Looking for file: {training_binary_path}\")\n",
    "\n",
    "    if not os.path.isfile(training_binary_path):\n",
    "        start = time.time()\n",
    "        print(\"Loading training images...\")\n",
    "\n",
    "        training_data = []\n",
    "        faces_path = DATA_PATH\n",
    "        for filename in tqdm(listdir_x):\n",
    "            path = os.path.join(faces_path,filename)\n",
    "            image = Image.open(path).resize((GENERATE_SQUARE,\n",
    "                GENERATE_SQUARE),Image.ANTIALIAS)\n",
    "            training_data.append(np.asarray(image))\n",
    "        training_data = np.reshape(training_data,(-1,GENERATE_SQUARE,\n",
    "                GENERATE_SQUARE,IMAGE_CHANNELS))\n",
    "        # float16 saves some space instead of float32\n",
    "        training_data = training_data.astype(np.float16)\n",
    "        # rescale to [-1,1]\n",
    "        training_data = (training_data/127.5) - 1\n",
    "\n",
    "\n",
    "        print(\"Saving training image binary...\")\n",
    "        np.save(training_binary_path,training_data)\n",
    "        elapsed = time.time()-start\n",
    "        print (f'Image preprocess time:',elapsed)\n",
    "    else:\n",
    "        print(\"Loading previous training pickle...\")\n",
    "        training_data = np.load(training_binary_path)"
   ]
  },
  {
   "cell_type": "markdown",
   "metadata": {
    "colab_type": "text",
    "id": "0wiE_s0lb98V"
   },
   "source": [
    "## Loading the Data - conditional GAN\n"
   ]
  },
  {
   "cell_type": "code",
   "execution_count": 13,
   "metadata": {},
   "outputs": [],
   "source": [
    "# This would be the class header for 40 classes\n",
    "#CLASS_HEADER = list(df.columns)[1:]\n",
    "\n",
    "# For this experiment we only have 3 classes\n",
    "CLASS_HEADER = [\"Eyeglasses\", \"Rosy_Cheeks\", \"Goatee\"]"
   ]
  },
  {
   "cell_type": "code",
   "execution_count": 14,
   "metadata": {},
   "outputs": [],
   "source": [
    "# Load the Data - 3 classes\n",
    "\n",
    "# needs to be done to initialze the dimension\n",
    "X = np.load(os.path.join(FACEDATADIR, f\"categorical/training_data_128_128_Eyeglasses_12000.npy\"))\n",
    "y = np.array([0]*12000)\n",
    "ii=1\n",
    "\n",
    "for klasse in CLASS_HEADER[1:]:\n",
    "    X = np.concatenate([X, np.load(os.path.join(FACEDATADIR, f\"categorical/training_data_128_128_{klasse}_12000.npy\"))])\n",
    "    y = np.concatenate([y, np.array([ii]*12000)])\n",
    "    ii=ii+1"
   ]
  },
  {
   "cell_type": "code",
   "execution_count": 15,
   "metadata": {},
   "outputs": [
    {
     "data": {
      "text/plain": [
       "((36000, 128, 128, 3), (36000,))"
      ]
     },
     "execution_count": 15,
     "metadata": {},
     "output_type": "execute_result"
    }
   ],
   "source": [
    "X.shape, y.shape"
   ]
  },
  {
   "cell_type": "markdown",
   "metadata": {
    "colab_type": "text",
    "id": "vHaosi-7ebvp"
   },
   "source": [
    "# Conditional DCGAN"
   ]
  },
  {
   "cell_type": "code",
   "execution_count": 16,
   "metadata": {
    "colab": {},
    "colab_type": "code",
    "id": "UuWwiSK5fziW"
   },
   "outputs": [],
   "source": [
    "# define the standalone discriminator model\n",
    "def define_cond_discriminator(in_shape=(128,128,3), n_classes=40):\n",
    "\n",
    "    # label input\n",
    "    in_label = Input(shape = (1,), name = \"Input_Label\")\n",
    "    li = Embedding( n_classes , 50, name=\"Embedding_D\")(in_label)\n",
    "\n",
    "    n_nodes = in_shape[0] * in_shape[1] * 1 # 128*128*1\n",
    "    li = Dense(n_nodes, name=\"Cond_D_Dense_1\")(li)\n",
    "    li = Reshape((in_shape[0], in_shape[1], 1), name=\"Cond_D_Reshape_1\")(li)\n",
    "\n",
    "    # image input\n",
    "    in_image = Input(shape=in_shape, name=\"Cond_D_Input_Image\")\n",
    "\n",
    "    # concat label as a channel\n",
    "    merge = Concatenate(name=\"Cond_D_Concatenate_1\")([in_image, li])\n",
    "\n",
    "    fe = Conv2D(64, (3,3), strides=(2,2), padding='same', name=\"Cond_D_Conv_1\")(merge)\n",
    "    fe = LeakyReLU(alpha=0.2, name=\"Cond_D_LeakyRelu_1\")(fe)\n",
    "\n",
    "    fe = Conv2D(128, (3,3), strides=(2,2), padding='same', name=\"Cond_D_conv_2\")(fe)\n",
    "    fe = LeakyReLU(alpha=0.2, name=\"Cond_D_LeakyRelu_2\")(fe)\n",
    "\n",
    "    fe = Conv2D(256, (3,3), strides=(2,2), padding='same', name=\"Cond_D_conv_3\")(fe)\n",
    "    fe = LeakyReLU(alpha=0.2, name=\"Cond_D_LeakyRelu_3\")(fe)\n",
    "\n",
    "    fe = Conv2D(512, (3,3), strides=(2,2), padding='same', name=\"Cond_D_conv_4\")(fe)\n",
    "    fe = LeakyReLU(alpha=0.2, name=\"Cond_D_LeakyRelu_4\")(fe)\n",
    "    \n",
    "    fe = Flatten(name=\"Cond_D_Flatten_1\")(fe)\n",
    "    fe = Dropout(0.3, name=\"Cond_D_Dropout_1\")(fe)\n",
    "\n",
    "    out_layer = Dense(1, activation='sigmoid', name=\"Cond_D_Dense_2\")(fe)\n",
    "\n",
    "    model = Model([in_image, in_label], out_layer)\n",
    "\n",
    "    opt = Adam(lr=0.0002, beta_1=0.5)\n",
    "    model.compile(loss='binary_crossentropy', optimizer=opt, metrics=['accuracy'])\n",
    "    return model"
   ]
  },
  {
   "cell_type": "code",
   "execution_count": 17,
   "metadata": {
    "colab": {},
    "colab_type": "code",
    "id": "E6E5F2SKef8r"
   },
   "outputs": [],
   "source": [
    "# define the standalone generator model\n",
    "def define_cond_generator(latent_dim, n_classes=40):\n",
    "\n",
    "    # label input\n",
    "    in_label = Input(shape=(1,))\n",
    "    li = Embedding(n_classes, 50)(in_label)\n",
    "    n_nodes = 8*8*1\n",
    "    li = Dense(n_nodes)(li)\n",
    "    li = Reshape((8, 8, 1), name=\"Cond_G_Reshape_2\")(li)\n",
    "\n",
    "    # image generator input\n",
    "    in_lat = Input(shape=(latent_dim,))\n",
    "\n",
    "    n_nodes = 3*8*8    # since 3 channels\n",
    "    gen = Dense(n_nodes)(in_lat)\n",
    "    gen = ReLU()(gen)\n",
    "    gen = Reshape((8, 8, 3), name=\"Cond_G_Reshape_3\")(gen)\n",
    "\n",
    "    merge = Concatenate()([gen, li])\n",
    "    \n",
    "    # 16x16\n",
    "    gen = Conv2DTranspose(1024, (4,4), strides=(2,2), padding='same')(merge)\n",
    "    gen = ReLU()(gen)\n",
    "    \n",
    "    # 32x32\n",
    "    gen = Conv2DTranspose(512, (4,4), strides=(2,2), padding='same')(gen)\n",
    "    gen = ReLU()(gen)\n",
    "    \n",
    "    # 64x64\n",
    "    gen = Conv2DTranspose(256, (4,4), strides=(2,2), padding='same')(gen)\n",
    "    gen = ReLU()(gen)\n",
    "    \n",
    "    # 128x128\n",
    "    gen = Conv2DTranspose(128, (4,4), strides=(2,2), padding='same')(gen)\n",
    "    gen = ReLU()(gen)\n",
    "\n",
    "    # 1X1 conv, reduce channels to 3 - rgb\n",
    "    out_layer = Conv2D(3, (7, 7), activation='tanh', padding='same')(gen)  # or 128, 128\n",
    "\n",
    "    model = Model([in_lat, in_label], out_layer)\n",
    "    return model\n",
    "\n",
    "# define the combined generator and discriminator model, for updating the generator\n",
    "def define_cond_gan(g_model, d_model):\n",
    "\n",
    "    # Use this model to ONLY train generator\n",
    "    d_model.trainable = False\n",
    "\n",
    "    gen_noise, gen_label = g_model.input\n",
    "    gen_output = g_model.output\n",
    "\n",
    "    # connect image output and label input from generator as inputs to discriminator\n",
    "    gan_output = d_model([gen_output, gen_label])\n",
    "    # define gan model as taking noise and label and outputting a classification\n",
    "    model = Model([gen_noise, gen_label], gan_output)\n",
    "\n",
    "    opt = Adam(lr=0.0002, beta_1=0.5)\n",
    "    model.compile(loss='binary_crossentropy', optimizer=opt)\n",
    "    return model"
   ]
  },
  {
   "cell_type": "code",
   "execution_count": 18,
   "metadata": {
    "colab": {},
    "colab_type": "code",
    "id": "xrh7GVYkfWMq"
   },
   "outputs": [],
   "source": [
    "# Nicely formatted time string\n",
    "def hms_string(sec_elapsed):\n",
    "    h = int(sec_elapsed / (60 * 60))\n",
    "    m = int((sec_elapsed % (60 * 60)) / 60)\n",
    "    s = sec_elapsed % 60\n",
    "    return \"{}:{:>02}:{:>05.2f}\".format(h, m, s)\n",
    "\n",
    "# select real samples\n",
    "def generate_real_samples(X, y, n_samples):\n",
    "    # choose random instances\n",
    "    ix = randint(0, X.shape[0], n_samples)\n",
    "    # select images and labels\n",
    "    X, labels = X[ix], y[ix]\n",
    "    # generate class labels\n",
    "    target = ones((n_samples, 1))\n",
    "    return [X, labels], target\n",
    "\n",
    "# select real samples as suggested in the literature \n",
    "def generate_real_samples_smoothed(X, y, n_samples):\n",
    "    # choose random instances\n",
    "    ix = randint(0, X.shape[0], n_samples)\n",
    "    # select images and labels\n",
    "    X, labels = X[ix], y[ix]\n",
    "    # generate class labels\n",
    "    target = ones((n_samples, 1))*0.9 # change here if needed\n",
    "    return [X, labels], target\n",
    "\n",
    "# generate points in latent space as input for the generator\n",
    "def generate_latent_points(latent_dim, n_samples, n_classes=3):\n",
    "    # generate points in the latent space\n",
    "    x_input = randn(latent_dim * n_samples)\n",
    "    # reshape into a batch of inputs for the network\n",
    "    z_input = x_input.reshape(n_samples, latent_dim)\n",
    "    # generate labels\n",
    "    labels = randint(0, n_classes, n_samples)\n",
    "    return [z_input, labels]\n",
    " \n",
    "\n",
    "# generate points in latent space for saving progress\n",
    "def generate_latent_points_fix(latent_dim, n_classes=3):\n",
    "    # generate points in the latent space\n",
    "    x_input = randn(latent_dim * n_classes)\n",
    "    # reshape into a batch of inputs for the network\n",
    "    z_input = x_input.reshape(n_classes, latent_dim)\n",
    "    # generate labels\n",
    "    labels = np.array(list(range(n_classes)))\n",
    "    return z_input, labels\n",
    "\n",
    "# use the generator to generate n fake examples, with class labels\n",
    "def generate_fake_samples(generator, latent_dim, n_samples):\n",
    "    # generate points in latent space\n",
    "    z_input, labels_input = generate_latent_points(latent_dim, n_samples)\n",
    "    # predict outputs\n",
    "    #print(f\"SAFE. z_input: {z_input.shape}, labels_input:{labels_input.shape}\")\n",
    "    images = generator.predict([z_input, labels_input])\n",
    "    # create class labels\n",
    "    y = zeros((n_samples, 1))\n",
    "    return [images, labels_input], y\n",
    "    \n",
    "# here for the model with only 3 classes\n",
    "def save_progress_full(generator, z, label, epoch, prefix = \"\", class_header=CLASS_HEADER):\n",
    "    i=0\n",
    "    fig, axes = plt.subplots(nrows=1, ncols=3, figsize=(15,7))\n",
    "    gen_imgs = generator.predict([z,label])\n",
    "    \n",
    "    for ax in axes:\n",
    "        ax.imshow(gen_imgs[i] * 0.5 + 0.5)\n",
    "        ax.set_title(f\"{class_header[i]}\")\n",
    "        i=i+1\n",
    "        ax.tick_params(axis='both',which='both',bottom=False,top=False,labelbottom=False, labelleft=False, labelright=False, labeltop=False, left=False, right=False)\n",
    "    fig.tight_layout(rect=[0, 0.03, 1, 0.95])\n",
    "    plt.suptitle(f\"Epoch: {epoch}\")\n",
    "    plt.savefig(os.path.join(FULL_SAVE, f\"{prefix}facegen_epoch_{epoch}_full.png\"), dpi=300)\n",
    "    #plt.show()\n",
    "    plt.close(fig=fig)\n",
    "    \n",
    "    \n",
    "# here for the model with all 40 classes\n",
    "def save_progress_full_40(generator, z, label, epoch, prefix = \"\", class_header=CLASS_HEADER):\n",
    "    i=0\n",
    "    fig, axes = plt.subplots(nrows=8, ncols=5, figsize=(20,20))\n",
    "    gen_imgs = generator.predict([z,label])\n",
    "    for row in axes:\n",
    "        for ax in row:\n",
    "            ax.imshow(gen_imgs[i] * 0.5 + 0.5)\n",
    "            ax.set_title(f\"{class_header[i]}\")\n",
    "            i=i+1\n",
    "            ax.tick_params(axis='both',which='both',bottom=False,top=False,labelbottom=False, labelleft=False, labelright=False, labeltop=False, left=False, right=False)\n",
    "    fig.tight_layout(rect=[0, 0.03, 1, 0.95])\n",
    "    plt.suptitle(f\"Epoch: {epoch}\")\n",
    "    plt.savefig(os.path.join(FULL_SAVE, f\"{prefix}facegen_epoch_{epoch}_full.png\"), dpi=300)\n",
    "    #plt.show()\n",
    "    plt.close(fig=fig)\n",
    "    \n",
    "# independent of amount of classes\n",
    "def save_progress_variety(generator, z, label, epoch, prefix = \"\", classname=\"\"):\n",
    "    i=0\n",
    "    fig, axes = plt.subplots(nrows=4, ncols=4, figsize=(15,15))\n",
    "    gen_imgs = generator.predict([z,label])\n",
    "    for row in axes:\n",
    "        for ax in row:\n",
    "            ax.imshow(gen_imgs[i] * 0.5 + 0.5)\n",
    "            i=i+1\n",
    "            ax.tick_params(axis='both',which='both',bottom=False,top=False,labelbottom=False, labelleft=False, labelright=False, labeltop=False, left=False, right=False)\n",
    "    fig.tight_layout(rect=[0, 0.03, 1, 0.95])\n",
    "    plt.suptitle(f\"{classname} on epoch: {epoch}\")\n",
    "    plt.savefig(os.path.join(CLASSES_SAVE, f\"{classname}_{prefix}epoch_{epoch}.png\"), dpi=300)\n",
    "    plt.close(fig=fig)\n",
    "    #plt.show()\n",
    "    \n",
    "\"\"\"\n",
    "Weights MUST HAVE layout: \"prefix_cgan_{generator, discriminator}_epoch_X.h5\"\n",
    "\n",
    "Actually DEPRECATED, because weights are loaded manually to ensure everything goes right\n",
    "\"\"\"\n",
    "def load_latest_model(d, g, path, prefix=\"\"):\n",
    "    files = os.listdir(path)\n",
    "    print(files)\n",
    "    #print(files)\n",
    "    max_d = 0\n",
    "    max_g = 0\n",
    "    for file in files: \n",
    "        print(file.split(\"_\")[0])\n",
    "        if (file.split(\"_\")[0] == prefix):\n",
    "            #print(file.split(\"_\")[2])\n",
    "            print(file)\n",
    "            if (file.split(\"_\")[2] == \"generator\"):\n",
    "                maxx = int(file.split(\"_\")[::-1][0].split(\".\")[0])\n",
    "                #print(maxx)\n",
    "                if (maxx>max_g):\n",
    "                    max_g = maxx\n",
    "            if (file.split(\"_\")[2] == \"discriminator\"):\n",
    "                maxx = int(file.split(\"_\")[::-1][0].split(\".\")[0])\n",
    "                #print(maxx)\n",
    "                if (maxx>max_d):\n",
    "                    max_d = maxx\n",
    "\n",
    "    g.load_weights(os.path.join(path,f\"{prefix}_cgan_generator_epoch_{max_g}.h5\"))\n",
    "    d.load_weights(os.path.join(path,f\"{prefix}_cgan_discriminator_epoch_{max_g}.h5\"))\n",
    "    \n",
    "    print(f\"Loaded weights for epoch: {max_g}\")\n",
    "    return max_g\n",
    "\n",
    "def plot_random_with_discr(d_model, g_model, epoch, latent_dim=100, save_pref=\"\"):\n",
    "    z, label = generate_latent_points_fix(latent_dim, n_classes=3)\n",
    "    predd = g_model.predict([z, label])\n",
    "    i=0\n",
    "    fig, axes = plt.subplots(nrows=1, ncols=3, figsize=(15,7))\n",
    "    gen_imgs = g_model.predict([z,label])\n",
    "    d_pred = d_model.predict([predd,label])\n",
    "    \n",
    "    for ax in axes:\n",
    "        ax.imshow(gen_imgs[i] * 0.5 + 0.5)\n",
    "        ax.set_title(f\"{CLASS_HEADER[i]}: {np.round(d_pred[i][0]*100, decimals=2)}%\")\n",
    "        i=i+1\n",
    "\n",
    "        ax.tick_params(axis='both',which='both',bottom=False,top=False,labelbottom=False, labelleft=False, labelright=False)\n",
    "    \n",
    "    fig.tight_layout(rect=[0, 0.03, 1, 0.95])\n",
    "    plt.suptitle(f\"Epoch {epoch} - Descriminator probabilities of being a real image\")\n",
    "    if(save_pref):\n",
    "        plt.savefig(os.path.join(DISCR_SAVE+f\"{save_pref}discriminator_epoch_{epoch}.png\"), dpi=300)\n",
    "    #plt.show()\n",
    "    plt.close()"
   ]
  },
  {
   "cell_type": "code",
   "execution_count": 19,
   "metadata": {
    "colab": {},
    "colab_type": "code",
    "id": "oh5l5YTJlemd"
   },
   "outputs": [],
   "source": [
    "def train(g_model, d_model, gan_model, X, y , latent_dim, n_epochs=10000, n_batch=128, prefix=\"\", epoch_start = 0, n_classes=40, class_header=CLASS_HEADER):\n",
    "    # Only write csv header if first epoch\n",
    "    if(epoch_start == 0):\n",
    "        with open(os.path.join(FACEDATADIR, f\"training_log/{prefix}training.csv\"), \"w+\") as f:\n",
    "            f.write(\"epoch; d_loss_real; d_loss_fake; g_loss\\n\")\n",
    "    bat_per_epo = int(X.shape[0] / n_batch)\n",
    "    half_batch = int(n_batch / 2)\n",
    "    # generate input and labels for progression tracking\n",
    "    save_z_full, save_label_full = generate_latent_points_fix(latent_dim, n_classes=40)\n",
    "    save_z_variety, _ = generate_latent_points_fix(latent_dim, n_classes=24) #small hack: 24 here to get 24 pictures, the actual class label comes later in this code\n",
    "    if(epoch_start == 0):\n",
    "        np.save(os.path.join(LOG, f\"{prefix}save_z_full.npy\"), save_z_full)\n",
    "        np.save(os.path.join(LOG, f\"{prefix}save_z_variety.npy\"), save_z_variety)\n",
    "    else:\n",
    "        save_z_full = np.load(os.path.join(LOG, f\"{prefix}save_z_full.npy\"))\n",
    "        save_z_variety = np.load(os.path.join(LOG, f\"{prefix}save_z_variety.npy\"))\n",
    "    # manually enumerate epochs\n",
    "    for i in range(epoch_start,n_epochs):\n",
    "        start_t = time.time()\n",
    "        # enumerate batches over the training set\n",
    "        for j in range(bat_per_epo):\n",
    "            # get randomly selected 'real' samples\n",
    "            [X_real, labels_real], y_real = generate_real_samples_smoothed(X, y, half_batch)\n",
    "            # update discriminator model weights\n",
    "            d_loss1, _ = d_model.train_on_batch([X_real, labels_real], y_real)\n",
    "            # generate 'fake' examples\n",
    "            [X_fake, labels], y_fake = generate_fake_samples(g_model, latent_dim, half_batch)\n",
    "            # update discriminator model weights\n",
    "            d_loss2, _ = d_model.train_on_batch([X_fake, labels], y_fake)\n",
    "            # prepare points in latent space as input for the generator\n",
    "            [z_input, labels_input] = generate_latent_points(latent_dim, n_batch)\n",
    "            # create inverted labels for the fake samples\n",
    "            y_gan = ones((n_batch, 1))\n",
    "            # update the generator via the discriminator's error\n",
    "            g_loss = gan_model.train_on_batch([z_input, labels_input], y_gan)\n",
    "            # summarize loss on this batch\n",
    "            if (j%50==0):\n",
    "                print('>%d, %d/%d, d1=%.3f, d2=%.3f g=%.3f' %\n",
    "                  (i+1, j+1, bat_per_epo, d_loss1, d_loss2, g_loss))\n",
    "        # save the generator model\n",
    "        if (i%5==0):\n",
    "            print(\"Saving the model...\")\n",
    "            g_model.save(os.path.join(CHECKPOINTS,f'{prefix}cgan_generator_epoch_{i}.h5'))\n",
    "            d_model.save(os.path.join(CHECKPOINTS,f'{prefix}cgan_discriminator_epoch_{i}.h5'))\n",
    "            print(\"Saving visual progress...\")\n",
    "            plot_random_with_discr(d_model, g_model, i, latent_dim=100, save_pref=prefix)\n",
    "        if(i%7==0):\n",
    "            for i_label in range(n_classes):\n",
    "                save_label_variety = np.array([i_label]*save_z_variety.shape[0])\n",
    "                save_progress_variety(g_model, save_z_variety, save_label_variety, i, prefix = prefix, classname=f\"{class_header[i_label]}\")\n",
    "        with open(os.path.join(LOG, f\"{prefix}training.csv\"), \"a\") as f:\n",
    "            f.write(f\"{i}; {d_loss1}; {d_loss2}; {g_loss}\\n\")\n",
    "        end_t = time.time()\n",
    "        print(f\"epoch {i}, elapsed time: {hms_string(end_t-start_t)}\")\n",
    "        if(n_classes == 40):\n",
    "            save_progress_full_40(g_model, save_z_full, save_label_full, i, prefix = prefix, class_header=class_header)\n",
    "        else:\n",
    "            save_progress_full(g_model, save_z_full, save_label_full, i, prefix = prefix, class_header=class_header)"
   ]
  },
  {
   "cell_type": "code",
   "execution_count": 32,
   "metadata": {
    "colab": {},
    "colab_type": "code",
    "id": "eZTTtKRunqpL"
   },
   "outputs": [],
   "source": [
    "# initialize models\n",
    "# size of the latent space\n",
    "latent_dim = 100\n",
    "# create the discriminator\n",
    "d_model = define_cond_discriminator(n_classes=40)\n",
    "# create the generator\n",
    "g_model = define_cond_generator(100, n_classes=40)\n",
    "# create the gan\n",
    "gan_model = define_cond_gan(g_model, d_model)"
   ]
  },
  {
   "cell_type": "code",
   "execution_count": null,
   "metadata": {},
   "outputs": [],
   "source": [
    "# ONLY here is the prefix not ending with _ due to the pattern matching process of finding the right file\n",
    "#n_epoch = load_latest_model(d_model, g_model, os.path.join(FACEDATADIR, \"checkpoints\"), prefix=\"full40_cDCGAN\")"
   ]
  },
  {
   "cell_type": "code",
   "execution_count": 33,
   "metadata": {},
   "outputs": [],
   "source": [
    "epoch = 95\n",
    "d_model.load_weights(os.path.join(CHECKPOINTS,f\"final_cgan_discriminator_epoch_{epoch}.h5\"))\n",
    "g_model.load_weights(os.path.join(CHECKPOINTS,f\"final_cgan_generator_epoch_{epoch}.h5\"))\n",
    "epoch = epoch + 1"
   ]
  },
  {
   "cell_type": "code",
   "execution_count": null,
   "metadata": {
    "colab": {
     "base_uri": "https://localhost:8080/",
     "height": 1000
    },
    "colab_type": "code",
    "id": "r5pya_neo8b9",
    "outputId": "f51b9c92-0997-4fba-eeae-6e2ae3850e45",
    "scrolled": true
   },
   "outputs": [],
   "source": [
    "train(g_model, d_model, gan_model, X,y, latent_dim, n_epochs=10000, n_batch=128, prefix=\"final_\", n_classes=3, epoch_start=0)"
   ]
  },
  {
   "cell_type": "markdown",
   "metadata": {},
   "source": [
    "# Visualize model performance"
   ]
  },
  {
   "cell_type": "markdown",
   "metadata": {},
   "source": [
    "## Loss"
   ]
  },
  {
   "cell_type": "code",
   "execution_count": 105,
   "metadata": {},
   "outputs": [],
   "source": [
    "training_log = pd.read_csv(os.path.join(LOG,\"final_training.csv\"), delimiter=\";\")"
   ]
  },
  {
   "cell_type": "code",
   "execution_count": 106,
   "metadata": {},
   "outputs": [
    {
     "data": {
      "text/html": [
       "<div>\n",
       "<style scoped>\n",
       "    .dataframe tbody tr th:only-of-type {\n",
       "        vertical-align: middle;\n",
       "    }\n",
       "\n",
       "    .dataframe tbody tr th {\n",
       "        vertical-align: top;\n",
       "    }\n",
       "\n",
       "    .dataframe thead th {\n",
       "        text-align: right;\n",
       "    }\n",
       "</style>\n",
       "<table border=\"1\" class=\"dataframe\">\n",
       "  <thead>\n",
       "    <tr style=\"text-align: right;\">\n",
       "      <th></th>\n",
       "      <th>epoch</th>\n",
       "      <th>d_loss_real</th>\n",
       "      <th>d_loss_fake</th>\n",
       "      <th>g_loss</th>\n",
       "    </tr>\n",
       "  </thead>\n",
       "  <tbody>\n",
       "    <tr>\n",
       "      <th>0</th>\n",
       "      <td>0</td>\n",
       "      <td>0.536238</td>\n",
       "      <td>0.249453</td>\n",
       "      <td>4.957487</td>\n",
       "    </tr>\n",
       "    <tr>\n",
       "      <th>1</th>\n",
       "      <td>1</td>\n",
       "      <td>0.472835</td>\n",
       "      <td>0.165468</td>\n",
       "      <td>2.652992</td>\n",
       "    </tr>\n",
       "    <tr>\n",
       "      <th>2</th>\n",
       "      <td>2</td>\n",
       "      <td>0.749032</td>\n",
       "      <td>0.091551</td>\n",
       "      <td>2.985757</td>\n",
       "    </tr>\n",
       "    <tr>\n",
       "      <th>3</th>\n",
       "      <td>3</td>\n",
       "      <td>0.509258</td>\n",
       "      <td>0.171112</td>\n",
       "      <td>3.290647</td>\n",
       "    </tr>\n",
       "    <tr>\n",
       "      <th>4</th>\n",
       "      <td>4</td>\n",
       "      <td>0.690904</td>\n",
       "      <td>0.093663</td>\n",
       "      <td>3.830461</td>\n",
       "    </tr>\n",
       "  </tbody>\n",
       "</table>\n",
       "</div>"
      ],
      "text/plain": [
       "   epoch   d_loss_real   d_loss_fake    g_loss\n",
       "0      0      0.536238      0.249453  4.957487\n",
       "1      1      0.472835      0.165468  2.652992\n",
       "2      2      0.749032      0.091551  2.985757\n",
       "3      3      0.509258      0.171112  3.290647\n",
       "4      4      0.690904      0.093663  3.830461"
      ]
     },
     "execution_count": 106,
     "metadata": {},
     "output_type": "execute_result"
    }
   ],
   "source": [
    "training_log.head()"
   ]
  },
  {
   "cell_type": "code",
   "execution_count": 107,
   "metadata": {},
   "outputs": [
    {
     "data": {
      "image/png": "[encoded data removed]",
      "text/plain": [
       "<Figure size 1080x504 with 1 Axes>"
      ]
     },
     "metadata": {
      "needs_background": "light"
     },
     "output_type": "display_data"
    }
   ],
   "source": [
    "fig = plt.figure(figsize=(15,7))\n",
    "plt.grid()\n",
    "plt.plot(training_log[\" d_loss_real\"], c=\"#900d0d\", label=\"D loss real\", linewidth=3, alpha=0.85)\n",
    "plt.plot(training_log[\" d_loss_fake\"], c=\"#cf1b1b\", label=\"D loss fake\", linewidth=3, alpha=0.85)\n",
    "plt.plot(training_log[\" g_loss\"], c=\"#206a5d\", label=\"G loss\", linewidth=3, alpha=0.85)\n",
    "plt.legend()\n",
    "plt.title(\"Losses over Epochs (Binary Cross Entropy)\")\n",
    "plt.xticks([0,10,20,30,40,50,60,70,80,90,95])\n",
    "plt.savefig(os.path.join(LOG,\"final_training_fig.png\"), dpi=300)\n",
    "plt.show()"
   ]
  },
  {
   "cell_type": "markdown",
   "metadata": {},
   "source": [
    "## Save randomly generated pictures"
   ]
  },
  {
   "cell_type": "code",
   "execution_count": null,
   "metadata": {},
   "outputs": [],
   "source": [
    "[fake_pic, fake_label], _ = generate_fake_samples(g_model, 100, 300) # 300 instances"
   ]
  },
  {
   "cell_type": "code",
   "execution_count": null,
   "metadata": {},
   "outputs": [],
   "source": [
    "for i in range(300):\n",
    "    # rescale to 0-255, reshape and cast type \n",
    "    pic_data = (((fake_pic[i]+1)/2).reshape(128,128,3)*255).astype(np.uint8)\n",
    "    pic = Image.fromarray(pic_data)\n",
    "    pic.save(os.path.join(RANDOM_SAVE,f\"{CLASS_HEADER[fake_label[i]]}_{i}.png\"))"
   ]
  },
  {
   "cell_type": "markdown",
   "metadata": {},
   "source": [
    "## [Explore latent space](https://machinelearningmastery.com/how-to-interpolate-and-perform-vector-arithmetic-with-faces-using-a-generative-adversarial-network/)"
   ]
  },
  {
   "cell_type": "code",
   "execution_count": 53,
   "metadata": {},
   "outputs": [],
   "source": [
    "# uniform interpolation between two points in latent space\n",
    "def interpolate_points(p1, p2, n_steps=10):\n",
    "    # interpolate ratios between the points\n",
    "    ratios = np.linspace(0, 1, num=n_steps)\n",
    "    # linear interpolate vectors\n",
    "    vectors = list()\n",
    "    for ratio in ratios:\n",
    "        v = (1.0 - ratio) * p1 + ratio * p2\n",
    "        vectors.append(v)\n",
    "    #print(vectors)\n",
    "    return np.stack(vectors)"
   ]
  },
  {
   "cell_type": "code",
   "execution_count": 101,
   "metadata": {},
   "outputs": [],
   "source": [
    "def save_latent_interpolations(path, n):\n",
    "    for i in range(n):\n",
    "        # generate points in latent space\n",
    "        n = 6\n",
    "        pts = generate_latent_points(100, n)\n",
    "\n",
    "        # interpolate pairs\n",
    "        results = None\n",
    "        class_label = 0\n",
    "        for i in range(0, n, 2):\n",
    "            # interpolate points in latent space\n",
    "            interpolated = interpolate_points(pts[0][i], pts[0][i+1])\n",
    "            # generate images\n",
    "            X = g_model.predict([interpolated, np.ones((10,))*class_label])\n",
    "            class_label = class_label + 1\n",
    "            # scale from [-1,1] to [0,1]\n",
    "            X = (X + 1) / 2.0\n",
    "            if results is None:\n",
    "                results = X\n",
    "            else:\n",
    "                results = np.vstack((results, X))\n",
    "        # plot the result\n",
    "        #plot_generated(results, 10)\n",
    "\n",
    "        fig, rows = plt.subplots(nrows=3, ncols=10, figsize=(25,7))\n",
    "        i = 0\n",
    "        for row in rows:\n",
    "            for ax in row:\n",
    "                ax.imshow(results[i])\n",
    "                ax.axis(\"off\")\n",
    "                i=i+1\n",
    "\n",
    "        #plt.tight_layout(rect=[0, 0.03, 1, 0.95])\n",
    "        plt.tight_layout()\n",
    "        #plt.suptitle(\"Latent Space Interpolation for Glasses, Rosy Cheeks and Goatee\")\n",
    "        #plt.show()\n",
    "        plt.savefig(os.path.join(path, f\"latent_space_interpolation_{np.random.randint(0,999999)}.png\"), dpi=300)\n",
    "        plt.close(fig=fig)"
   ]
  },
  {
   "cell_type": "code",
   "execution_count": 104,
   "metadata": {},
   "outputs": [],
   "source": [
    "save_latent_interpolations(LATENT_SAVE, 100)"
   ]
  }
 ],
 "metadata": {
  "accelerator": "GPU",
  "colab": {
   "collapsed_sections": [
    "0wiE_s0lb98V",
    "VeG_ltmskh5A"
   ],
   "name": "N3_GAN_CelebA.ipynb",
   "provenance": []
  },
  "kernelspec": {
   "display_name": "tensorflow-gpu",
   "language": "python",
   "name": "tensorflow-gpu"
  },
  "language_info": {
   "codemirror_mode": {
    "name": "ipython",
    "version": 3
   },
   "file_extension": ".py",
   "mimetype": "text/x-python",
   "name": "python",
   "nbconvert_exporter": "python",
   "pygments_lexer": "ipython3",
   "version": "3.7.7"
  }
 },
 "nbformat": 4,
 "nbformat_minor": 4
}

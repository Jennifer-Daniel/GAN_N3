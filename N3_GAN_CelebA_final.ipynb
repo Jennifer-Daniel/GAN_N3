{
  "nbformat": 4,
  "nbformat_minor": 0,
  "metadata": {
    "colab": {
      "name": "N3_GAN_CelebA_final.ipynb",
      "provenance": [],
      "collapsed_sections": [
        "H7dzjjdi826X",
        "EffqIllQ826X",
        "162Xn5Ut826j",
        "AnPwn7lC826t",
        "vHaosi-7ebvp",
        "XDrmPOFuhp0t",
        "CceRl5Fp827G",
        "4HamjGt0827M"
      ]
    },
    "kernelspec": {
      "name": "python3",
      "display_name": "Python 3"
    }
  },
  "cells": [
    {
      "cell_type": "markdown",
      "metadata": {
        "colab_type": "text",
        "id": "pzIk_n8ZKaL_"
      },
      "source": [
        "# 1 ) Data Preprocessing and Exploring\n"
      ]
    },
    {
      "cell_type": "markdown",
      "metadata": {
        "colab_type": "text",
        "id": "2Bkr-BRO96D_"
      },
      "source": [
        "### Data Download"
      ]
    },
    {
      "cell_type": "code",
      "metadata": {
        "colab_type": "code",
        "id": "dbxG-T0PSWn7",
        "colab": {
          "base_uri": "https://localhost:8080/",
          "height": 548
        },
        "outputId": "f34cca29-36be-44ce-9407-245a9cc9d2a7"
      },
      "source": [
        "# Download the data\n",
        "from data_loading import folder_download\n",
        "!wget -qnc https://github.com/segnolin/google-drive-folder-downloader/raw/master/download.py\n",
        "# Download the data\n",
        "folder_id = \"0B7EVK8r0v71pWEZsZE9oNnFzTm8\"\n",
        "folder_download(folder_id=folder_id)\n",
        "\n",
        "% cd /content/CelebA/Img/\n",
        "!unzip img_align_celeba.zip"
      ],
      "execution_count": 4,
      "outputs": [
        {
          "output_type": "error",
          "ename": "KeyboardInterrupt",
          "evalue": "ignored",
          "traceback": [
            "\u001b[0;31m---------------------------------------------------------------------------\u001b[0m",
            "\u001b[0;31mKeyboardInterrupt\u001b[0m                         Traceback (most recent call last)",
            "\u001b[0;32m/usr/local/lib/python3.6/dist-packages/ipykernel/kernelbase.py\u001b[0m in \u001b[0;36m_input_request\u001b[0;34m(self, prompt, ident, parent, password)\u001b[0m\n\u001b[1;32m    728\u001b[0m             \u001b[0;32mtry\u001b[0m\u001b[0;34m:\u001b[0m\u001b[0;34m\u001b[0m\u001b[0;34m\u001b[0m\u001b[0m\n\u001b[0;32m--> 729\u001b[0;31m                 \u001b[0mident\u001b[0m\u001b[0;34m,\u001b[0m \u001b[0mreply\u001b[0m \u001b[0;34m=\u001b[0m \u001b[0mself\u001b[0m\u001b[0;34m.\u001b[0m\u001b[0msession\u001b[0m\u001b[0;34m.\u001b[0m\u001b[0mrecv\u001b[0m\u001b[0;34m(\u001b[0m\u001b[0mself\u001b[0m\u001b[0;34m.\u001b[0m\u001b[0mstdin_socket\u001b[0m\u001b[0;34m,\u001b[0m \u001b[0;36m0\u001b[0m\u001b[0;34m)\u001b[0m\u001b[0;34m\u001b[0m\u001b[0;34m\u001b[0m\u001b[0m\n\u001b[0m\u001b[1;32m    730\u001b[0m             \u001b[0;32mexcept\u001b[0m \u001b[0mException\u001b[0m\u001b[0;34m:\u001b[0m\u001b[0;34m\u001b[0m\u001b[0;34m\u001b[0m\u001b[0m\n",
            "\u001b[0;32m/usr/local/lib/python3.6/dist-packages/jupyter_client/session.py\u001b[0m in \u001b[0;36mrecv\u001b[0;34m(self, socket, mode, content, copy)\u001b[0m\n\u001b[1;32m    802\u001b[0m         \u001b[0;32mtry\u001b[0m\u001b[0;34m:\u001b[0m\u001b[0;34m\u001b[0m\u001b[0;34m\u001b[0m\u001b[0m\n\u001b[0;32m--> 803\u001b[0;31m             \u001b[0mmsg_list\u001b[0m \u001b[0;34m=\u001b[0m \u001b[0msocket\u001b[0m\u001b[0;34m.\u001b[0m\u001b[0mrecv_multipart\u001b[0m\u001b[0;34m(\u001b[0m\u001b[0mmode\u001b[0m\u001b[0;34m,\u001b[0m \u001b[0mcopy\u001b[0m\u001b[0;34m=\u001b[0m\u001b[0mcopy\u001b[0m\u001b[0;34m)\u001b[0m\u001b[0;34m\u001b[0m\u001b[0;34m\u001b[0m\u001b[0m\n\u001b[0m\u001b[1;32m    804\u001b[0m         \u001b[0;32mexcept\u001b[0m \u001b[0mzmq\u001b[0m\u001b[0;34m.\u001b[0m\u001b[0mZMQError\u001b[0m \u001b[0;32mas\u001b[0m \u001b[0me\u001b[0m\u001b[0;34m:\u001b[0m\u001b[0;34m\u001b[0m\u001b[0;34m\u001b[0m\u001b[0m\n",
            "\u001b[0;32m/usr/local/lib/python3.6/dist-packages/zmq/sugar/socket.py\u001b[0m in \u001b[0;36mrecv_multipart\u001b[0;34m(self, flags, copy, track)\u001b[0m\n\u001b[1;32m    474\u001b[0m         \"\"\"\n\u001b[0;32m--> 475\u001b[0;31m         \u001b[0mparts\u001b[0m \u001b[0;34m=\u001b[0m \u001b[0;34m[\u001b[0m\u001b[0mself\u001b[0m\u001b[0;34m.\u001b[0m\u001b[0mrecv\u001b[0m\u001b[0;34m(\u001b[0m\u001b[0mflags\u001b[0m\u001b[0;34m,\u001b[0m \u001b[0mcopy\u001b[0m\u001b[0;34m=\u001b[0m\u001b[0mcopy\u001b[0m\u001b[0;34m,\u001b[0m \u001b[0mtrack\u001b[0m\u001b[0;34m=\u001b[0m\u001b[0mtrack\u001b[0m\u001b[0;34m)\u001b[0m\u001b[0;34m]\u001b[0m\u001b[0;34m\u001b[0m\u001b[0;34m\u001b[0m\u001b[0m\n\u001b[0m\u001b[1;32m    476\u001b[0m         \u001b[0;31m# have first part already, only loop while more to receive\u001b[0m\u001b[0;34m\u001b[0m\u001b[0;34m\u001b[0m\u001b[0;34m\u001b[0m\u001b[0m\n",
            "\u001b[0;32mzmq/backend/cython/socket.pyx\u001b[0m in \u001b[0;36mzmq.backend.cython.socket.Socket.recv\u001b[0;34m()\u001b[0m\n",
            "\u001b[0;32mzmq/backend/cython/socket.pyx\u001b[0m in \u001b[0;36mzmq.backend.cython.socket.Socket.recv\u001b[0;34m()\u001b[0m\n",
            "\u001b[0;32mzmq/backend/cython/socket.pyx\u001b[0m in \u001b[0;36mzmq.backend.cython.socket._recv_copy\u001b[0;34m()\u001b[0m\n",
            "\u001b[0;32m/usr/local/lib/python3.6/dist-packages/zmq/backend/cython/checkrc.pxd\u001b[0m in \u001b[0;36mzmq.backend.cython.checkrc._check_rc\u001b[0;34m()\u001b[0m\n",
            "\u001b[0;31mKeyboardInterrupt\u001b[0m: ",
            "\nDuring handling of the above exception, another exception occurred:\n",
            "\u001b[0;31mKeyboardInterrupt\u001b[0m                         Traceback (most recent call last)",
            "\u001b[0;32m<ipython-input-4-845c2663e501>\u001b[0m in \u001b[0;36m<module>\u001b[0;34m()\u001b[0m\n\u001b[1;32m      4\u001b[0m \u001b[0;31m# Download the data\u001b[0m\u001b[0;34m\u001b[0m\u001b[0;34m\u001b[0m\u001b[0;34m\u001b[0m\u001b[0m\n\u001b[1;32m      5\u001b[0m \u001b[0mfolder_id\u001b[0m \u001b[0;34m=\u001b[0m \u001b[0;34m\"0B7EVK8r0v71pWEZsZE9oNnFzTm8\"\u001b[0m\u001b[0;34m\u001b[0m\u001b[0;34m\u001b[0m\u001b[0m\n\u001b[0;32m----> 6\u001b[0;31m \u001b[0mfolder_download\u001b[0m\u001b[0;34m(\u001b[0m\u001b[0mfolder_id\u001b[0m\u001b[0;34m=\u001b[0m\u001b[0mfolder_id\u001b[0m\u001b[0;34m)\u001b[0m\u001b[0;34m\u001b[0m\u001b[0;34m\u001b[0m\u001b[0m\n\u001b[0m\u001b[1;32m      7\u001b[0m \u001b[0;34m\u001b[0m\u001b[0m\n\u001b[1;32m      8\u001b[0m \u001b[0mget_ipython\u001b[0m\u001b[0;34m(\u001b[0m\u001b[0;34m)\u001b[0m\u001b[0;34m.\u001b[0m\u001b[0mmagic\u001b[0m\u001b[0;34m(\u001b[0m\u001b[0;34m'cd /content/CelebA/Img/'\u001b[0m\u001b[0;34m)\u001b[0m\u001b[0;34m\u001b[0m\u001b[0;34m\u001b[0m\u001b[0m\n",
            "\u001b[0;32m/content/data_loading.py\u001b[0m in \u001b[0;36mfolder_download\u001b[0;34m(folder_id)\u001b[0m\n\u001b[1;32m     19\u001b[0m   \u001b[0;31m# authenticate\u001b[0m\u001b[0;34m\u001b[0m\u001b[0;34m\u001b[0m\u001b[0;34m\u001b[0m\u001b[0m\n\u001b[1;32m     20\u001b[0m \u001b[0;34m\u001b[0m\u001b[0m\n\u001b[0;32m---> 21\u001b[0;31m   \u001b[0mauth\u001b[0m\u001b[0;34m.\u001b[0m\u001b[0mauthenticate_user\u001b[0m\u001b[0;34m(\u001b[0m\u001b[0;34m)\u001b[0m\u001b[0;34m\u001b[0m\u001b[0;34m\u001b[0m\u001b[0m\n\u001b[0m\u001b[1;32m     22\u001b[0m   \u001b[0;31m# get folder_name\u001b[0m\u001b[0;34m\u001b[0m\u001b[0;34m\u001b[0m\u001b[0;34m\u001b[0m\u001b[0m\n\u001b[1;32m     23\u001b[0m   \u001b[0mservice\u001b[0m \u001b[0;34m=\u001b[0m \u001b[0mbuild\u001b[0m\u001b[0;34m(\u001b[0m\u001b[0;34m'drive'\u001b[0m\u001b[0;34m,\u001b[0m \u001b[0;34m'v3'\u001b[0m\u001b[0;34m)\u001b[0m\u001b[0;34m\u001b[0m\u001b[0;34m\u001b[0m\u001b[0m\n",
            "\u001b[0;32m/usr/local/lib/python3.6/dist-packages/google/colab/auth.py\u001b[0m in \u001b[0;36mauthenticate_user\u001b[0;34m(clear_output)\u001b[0m\n\u001b[1;32m    145\u001b[0m     \u001b[0mcontext_manager\u001b[0m \u001b[0;34m=\u001b[0m \u001b[0m_output\u001b[0m\u001b[0;34m.\u001b[0m\u001b[0mtemporary\u001b[0m \u001b[0;32mif\u001b[0m \u001b[0mclear_output\u001b[0m \u001b[0;32melse\u001b[0m \u001b[0m_noop\u001b[0m\u001b[0;34m\u001b[0m\u001b[0;34m\u001b[0m\u001b[0m\n\u001b[1;32m    146\u001b[0m     \u001b[0;32mwith\u001b[0m \u001b[0mcontext_manager\u001b[0m\u001b[0;34m(\u001b[0m\u001b[0;34m)\u001b[0m\u001b[0;34m:\u001b[0m\u001b[0;34m\u001b[0m\u001b[0;34m\u001b[0m\u001b[0m\n\u001b[0;32m--> 147\u001b[0;31m       \u001b[0m_gcloud_login\u001b[0m\u001b[0;34m(\u001b[0m\u001b[0;34m)\u001b[0m\u001b[0;34m\u001b[0m\u001b[0;34m\u001b[0m\u001b[0m\n\u001b[0m\u001b[1;32m    148\u001b[0m     \u001b[0m_install_adc\u001b[0m\u001b[0;34m(\u001b[0m\u001b[0;34m)\u001b[0m\u001b[0;34m\u001b[0m\u001b[0;34m\u001b[0m\u001b[0m\n\u001b[1;32m    149\u001b[0m     \u001b[0mcolab_tpu_addr\u001b[0m \u001b[0;34m=\u001b[0m \u001b[0m_os\u001b[0m\u001b[0;34m.\u001b[0m\u001b[0menviron\u001b[0m\u001b[0;34m.\u001b[0m\u001b[0mget\u001b[0m\u001b[0;34m(\u001b[0m\u001b[0;34m'COLAB_TPU_ADDR'\u001b[0m\u001b[0;34m,\u001b[0m \u001b[0;34m''\u001b[0m\u001b[0;34m)\u001b[0m\u001b[0;34m\u001b[0m\u001b[0;34m\u001b[0m\u001b[0m\n",
            "\u001b[0;32m/usr/local/lib/python3.6/dist-packages/google/colab/auth.py\u001b[0m in \u001b[0;36m_gcloud_login\u001b[0;34m()\u001b[0m\n\u001b[1;32m     89\u001b[0m     \u001b[0;31m# https://github.com/jupyter/notebook/issues/3159\u001b[0m\u001b[0;34m\u001b[0m\u001b[0;34m\u001b[0m\u001b[0;34m\u001b[0m\u001b[0m\n\u001b[1;32m     90\u001b[0m     \u001b[0mprompt\u001b[0m \u001b[0;34m=\u001b[0m \u001b[0mprompt\u001b[0m\u001b[0;34m.\u001b[0m\u001b[0mrstrip\u001b[0m\u001b[0;34m(\u001b[0m\u001b[0;34m)\u001b[0m\u001b[0;34m\u001b[0m\u001b[0;34m\u001b[0m\u001b[0m\n\u001b[0;32m---> 91\u001b[0;31m     \u001b[0mcode\u001b[0m \u001b[0;34m=\u001b[0m \u001b[0m_getpass\u001b[0m\u001b[0;34m.\u001b[0m\u001b[0mgetpass\u001b[0m\u001b[0;34m(\u001b[0m\u001b[0mprompt\u001b[0m \u001b[0;34m+\u001b[0m \u001b[0;34m' '\u001b[0m\u001b[0;34m)\u001b[0m\u001b[0;34m\u001b[0m\u001b[0;34m\u001b[0m\u001b[0m\n\u001b[0m\u001b[1;32m     92\u001b[0m     \u001b[0mgcloud_process\u001b[0m\u001b[0;34m.\u001b[0m\u001b[0mcommunicate\u001b[0m\u001b[0;34m(\u001b[0m\u001b[0mcode\u001b[0m\u001b[0;34m.\u001b[0m\u001b[0mstrip\u001b[0m\u001b[0;34m(\u001b[0m\u001b[0;34m)\u001b[0m\u001b[0;34m)\u001b[0m\u001b[0;34m\u001b[0m\u001b[0;34m\u001b[0m\u001b[0m\n\u001b[1;32m     93\u001b[0m   \u001b[0;32mfinally\u001b[0m\u001b[0;34m:\u001b[0m\u001b[0;34m\u001b[0m\u001b[0;34m\u001b[0m\u001b[0m\n",
            "\u001b[0;32m/usr/local/lib/python3.6/dist-packages/ipykernel/kernelbase.py\u001b[0m in \u001b[0;36mgetpass\u001b[0;34m(self, prompt, stream)\u001b[0m\n\u001b[1;32m    685\u001b[0m             \u001b[0mself\u001b[0m\u001b[0;34m.\u001b[0m\u001b[0m_parent_ident\u001b[0m\u001b[0;34m,\u001b[0m\u001b[0;34m\u001b[0m\u001b[0;34m\u001b[0m\u001b[0m\n\u001b[1;32m    686\u001b[0m             \u001b[0mself\u001b[0m\u001b[0;34m.\u001b[0m\u001b[0m_parent_header\u001b[0m\u001b[0;34m,\u001b[0m\u001b[0;34m\u001b[0m\u001b[0;34m\u001b[0m\u001b[0m\n\u001b[0;32m--> 687\u001b[0;31m             \u001b[0mpassword\u001b[0m\u001b[0;34m=\u001b[0m\u001b[0;32mTrue\u001b[0m\u001b[0;34m,\u001b[0m\u001b[0;34m\u001b[0m\u001b[0;34m\u001b[0m\u001b[0m\n\u001b[0m\u001b[1;32m    688\u001b[0m         )\n\u001b[1;32m    689\u001b[0m \u001b[0;34m\u001b[0m\u001b[0m\n",
            "\u001b[0;32m/usr/local/lib/python3.6/dist-packages/ipykernel/kernelbase.py\u001b[0m in \u001b[0;36m_input_request\u001b[0;34m(self, prompt, ident, parent, password)\u001b[0m\n\u001b[1;32m    732\u001b[0m             \u001b[0;32mexcept\u001b[0m \u001b[0mKeyboardInterrupt\u001b[0m\u001b[0;34m:\u001b[0m\u001b[0;34m\u001b[0m\u001b[0;34m\u001b[0m\u001b[0m\n\u001b[1;32m    733\u001b[0m                 \u001b[0;31m# re-raise KeyboardInterrupt, to truncate traceback\u001b[0m\u001b[0;34m\u001b[0m\u001b[0;34m\u001b[0m\u001b[0;34m\u001b[0m\u001b[0m\n\u001b[0;32m--> 734\u001b[0;31m                 \u001b[0;32mraise\u001b[0m \u001b[0mKeyboardInterrupt\u001b[0m\u001b[0;34m\u001b[0m\u001b[0;34m\u001b[0m\u001b[0m\n\u001b[0m\u001b[1;32m    735\u001b[0m             \u001b[0;32melse\u001b[0m\u001b[0;34m:\u001b[0m\u001b[0;34m\u001b[0m\u001b[0;34m\u001b[0m\u001b[0m\n\u001b[1;32m    736\u001b[0m                 \u001b[0;32mbreak\u001b[0m\u001b[0;34m\u001b[0m\u001b[0;34m\u001b[0m\u001b[0m\n",
            "\u001b[0;31mKeyboardInterrupt\u001b[0m: "
          ]
        }
      ]
    },
    {
      "cell_type": "markdown",
      "metadata": {
        "colab_type": "text",
        "id": "wWQCigycaLBQ"
      },
      "source": [
        "## Imports"
      ]
    },
    {
      "cell_type": "code",
      "metadata": {
        "colab_type": "code",
        "id": "SuwogZZMImXC",
        "colab": {}
      },
      "source": [
        "import argparse\n",
        "import pandas as pd\n",
        "import numpy as np\n",
        "import matplotlib.pyplot as plt\n",
        "import colorsys\n",
        "import os\n",
        "import data_loading\n",
        "from data_loading import Data_Generation, Load_Data\n",
        "import model\n",
        "import train\n",
        "\n",
        "parser = argparse.ArgumentParser()"
      ],
      "execution_count": null,
      "outputs": []
    },
    {
      "cell_type": "code",
      "metadata": {
        "colab_type": "code",
        "id": "sayXv8Mr-N6Q",
        "colab": {}
      },
      "source": [
        "parser = argparse.ArgumentParser()"
      ],
      "execution_count": null,
      "outputs": []
    },
    {
      "cell_type": "code",
      "metadata": {
        "colab_type": "code",
        "id": "uWlGyU_-x_OB",
        "colab": {}
      },
      "source": [
        "# create directory to be used in the codes.\n",
        "\n",
        "!mkdir /content/CelebA/checkpoints\n",
        "!mkdir /content/CelebA/categorical\n",
        "!mkdir /content/CelebA/training_log\n",
        "!mkdir /content/CelebA/images\n",
        "\n",
        "!mkdir /content/CelebA/images/full\n",
        "!mkdir /content/CelebA/images/classes\n",
        "!mkdir /content/CelebA/images/disrc\n",
        "!mkdir /content/CelebA/images/random"
      ],
      "execution_count": null,
      "outputs": []
    },
    {
      "cell_type": "code",
      "metadata": {
        "colab_type": "code",
        "id": "OkDJhH1V2TZ6",
        "colab": {
          "base_uri": "https://localhost:8080/",
          "height": 35
        },
        "outputId": "ba189b69-846c-4c09-b9d2-fb7ec9e101f6"
      },
      "source": [
        "# Move the list_attr_celeba_2.csv to Anno\n",
        "import shutil\n",
        "shutil.move(\"/content/list_attr_celeba_2.csv\", \"/content/CelebA/Anno/\") \n"
      ],
      "execution_count": null,
      "outputs": [
        {
          "output_type": "execute_result",
          "data": {
            "application/vnd.google.colaboratory.intrinsic+json": {
              "type": "string"
            },
            "text/plain": [
              "'/content/CelebA/Anno/list_attr_celeba_2.csv'"
            ]
          },
          "metadata": {
            "tags": []
          },
          "execution_count": 3
        }
      ]
    },
    {
      "cell_type": "code",
      "metadata": {
        "colab_type": "code",
        "id": "P1AJGQ2tddw8",
        "colab": {}
      },
      "source": [
        "parser.add_argument('--CSVPATH',\n",
        "                    type=str,\n",
        "                    default = \"/content/CelebA/Anno/list_attr_celeba_2.csv\",\n",
        "                    help = \"path to file of list attribute\")\n",
        "\n",
        "parser.add_argument('--CHECKPOINTS',\n",
        "                    type=str,\n",
        "                    default = \"/content/CelebA/checkpoints\",\n",
        "                    help = \"path to save model checkpoints\")\n",
        "\n",
        "parser.add_argument('--NUMPY_FILES',\n",
        "                    type=str,\n",
        "                    default = \"/content/CelebA/categorical\",\n",
        "                    help = \"path to numpy saved images and labels as .npy files in the range [-1;1]\")\n",
        "\n",
        "parser.add_argument('--LOG',\n",
        "                    type=str,\n",
        "                    default = \"/content/CelebA/training_log\",\n",
        "                    help = \"path to training logs\") \n",
        "\n",
        "parser.add_argument('--IMAGES',\n",
        "                    type=str,\n",
        "                    default = \"/content/CelebA/images\",\n",
        "                    help = \"directory of all generated images during training/testing.\") \n",
        "\n",
        "\n",
        "parser.add_argument('--FULL_SAVE',\n",
        "                    type=str,\n",
        "                    default = \"/content/CelebA/images/full\"\n",
        "                   ) \n",
        "\n",
        "parser.add_argument('--CLASSES_SAVE',\n",
        "                    type=str,\n",
        "                    default = \"/content/CelebA/images/classes\"\n",
        "                   ) \n",
        "\n",
        "parser.add_argument('--DISCR_SAVE',\n",
        "                    type=str,\n",
        "                    default = \"/content/CelebA/images/disrc\"\n",
        "                    ) \n",
        "\n",
        "parser.add_argument('--RANDOM_SAVE',\n",
        "                    type=str,\n",
        "                    default = \"/content/CelebA/Images/random\"\n",
        "                    ) \n",
        "\n",
        "parser.add_argument('--ATTRIBUTE_HISTOGRAM',\n",
        "                    type=str,\n",
        "                    default = \"/content/CelebA/images/attributes_histo.png\",\n",
        "                    help = \"path to save attribute histrogram image\") \n",
        "\n",
        "parser.add_argument('--ATTRIBUTE_DISTRIBUTION',\n",
        "                    type=str,\n",
        "                    default = \"/content/CelebA/images/attributes_distr.png\",\n",
        "                    help = \"path to save attribute distribution image\") \n",
        "\n",
        "parser.add_argument('--DATA_PATH',\n",
        "                    type=str,\n",
        "                    default = \"/content/CelebA/Img/img_align_celeba\",\n",
        "                    help = \"path to the actual images from the celeba dataset\")\n",
        "\n",
        "parser.add_argument('--IMAGE_SIZE',\n",
        "                    type=int,\n",
        "                    default = 128,\n",
        "                    help = \"size of the image\") \n",
        "\n",
        "parser.add_argument('--NUMBER_OF_CLASSES',\n",
        "                    type=int,\n",
        "                    default = 3, \n",
        "                    help = \"total number of classes\")\n",
        "\n",
        "parser.add_argument('--BATCH_SIZE',\n",
        "                    type=int,\n",
        "                    default = 128, \n",
        "                    help = \"batch size\") \n",
        "args, _ = parser.parse_known_args()"
      ],
      "execution_count": null,
      "outputs": []
    },
    {
      "cell_type": "code",
      "metadata": {
        "colab_type": "code",
        "id": "leYhA-xT1ksL",
        "colab": {}
      },
      "source": [
        "# read the data attribute file\n",
        "df = pd.read_csv(args.CSVPATH, delimiter=\";\")"
      ],
      "execution_count": null,
      "outputs": []
    },
    {
      "cell_type": "markdown",
      "metadata": {
        "colab_type": "text",
        "id": "H7dzjjdi826X"
      },
      "source": [
        "## Exploration"
      ]
    },
    {
      "cell_type": "markdown",
      "metadata": {
        "colab_type": "text",
        "id": "EffqIllQ826X"
      },
      "source": [
        "### How many attributes / picture on average"
      ]
    },
    {
      "cell_type": "code",
      "metadata": {
        "colab_type": "code",
        "id": "eLlhnGV9826X",
        "colab": {}
      },
      "source": [
        "no_fn = df.drop(\"filename\", axis=1)"
      ],
      "execution_count": null,
      "outputs": []
    },
    {
      "cell_type": "code",
      "metadata": {
        "colab_type": "code",
        "id": "gB6OdH2M826Z",
        "colab": {}
      },
      "source": [
        "avg = no_fn.add(1,axis=0).sum(axis=1).apply(lambda x: x//2).aggregate(\"average\")\n",
        "std = no_fn.add(1,axis=0).sum(axis=1).apply(lambda x: x//2).aggregate(np.std)\n",
        "df_min = no_fn.add(1,axis=0).sum(axis=1).apply(lambda x: x//2).aggregate(np.min)\n",
        "df_max = no_fn.add(1,axis=0).sum(axis=1).apply(lambda x: x//2).aggregate(np.max)\n",
        "counts_series = no_fn.add(1,axis=0).sum(axis=1).apply(lambda x: x//2)"
      ],
      "execution_count": null,
      "outputs": []
    },
    {
      "cell_type": "code",
      "metadata": {
        "colab_type": "code",
        "id": "K7l3D0e1826c",
        "colab": {
          "base_uri": "https://localhost:8080/",
          "height": 50
        },
        "outputId": "cf2dc2b7-0464-4963-b2f3-41868750f3b2"
      },
      "source": [
        "# Get the Indices of the highest and lowest amount of attributes per person\n",
        "low_index = counts_series[counts_series==1].index[0]\n",
        "high_index = counts_series[counts_series==20].index[0]\n",
        "\n",
        "# Get the corresponding image-filenames\n",
        "print(f\"Only one attribute: \\t{df.iloc[low_index].filename}\")\n",
        "print(f\"Twenty attribute: \\t{df.iloc[high_index].filename}\")"
      ],
      "execution_count": null,
      "outputs": [
        {
          "output_type": "stream",
          "text": [
            "Only one attribute: \t003259.jpg\n",
            "Twenty attribute: \t014308.jpg\n"
          ],
          "name": "stdout"
        }
      ]
    },
    {
      "cell_type": "code",
      "metadata": {
        "colab_type": "code",
        "id": "7N8KbdYx826f",
        "colab": {
          "base_uri": "https://localhost:8080/",
          "height": 84
        },
        "outputId": "3e0a3bcb-aa41-4b01-d3a1-7b815d0bc747"
      },
      "source": [
        "print(f\"Average of Attributes/Person: \\t{np.round(avg, decimals = 2)}\")\n",
        "print(f\"Std of Attributes/Person: \\t{np.round(std, decimals = 2)}\")\n",
        "print(f\"Lowest amount of attributes: \\t{np.round(df_min, decimals = 2)}\")\n",
        "print(f\"Highest amount of attributes: \\t{np.round(df_max, decimals = 2)}\")"
      ],
      "execution_count": null,
      "outputs": [
        {
          "output_type": "stream",
          "text": [
            "Average of Attributes/Person: \t9.03\n",
            "Std of Attributes/Person: \t2.94\n",
            "Lowest amount of attributes: \t1\n",
            "Highest amount of attributes: \t20\n"
          ],
          "name": "stdout"
        }
      ]
    },
    {
      "cell_type": "code",
      "metadata": {
        "colab_type": "code",
        "id": "YxF999AE-Lyu",
        "colab": {
          "base_uri": "https://localhost:8080/",
          "height": 382
        },
        "outputId": "774eb835-9b2c-4a1a-91c7-39cd547d4d47"
      },
      "source": [
        "fig = plt.figure(figsize=(7,4),dpi=100)\n",
        "plt.rc('axes', axisbelow=True)\n",
        "plt.hist(counts_series, bins=20, color = \"#900d0d\", edgecolor= \"black\", range=(0,20))\n",
        "plt.grid()\n",
        "plt.xlabel(\"Amount of Positive Attributes per Person\")\n",
        "plt.ylabel(\"Occurrences\")\n",
        "plt.savefig(args.ATTRIBUTE_HISTOGRAM, dpi=300)\n",
        "plt.show()"
      ],
      "execution_count": null,
      "outputs": [
        {
          "output_type": "display_data",
          "data": {
            "image/png": "[encoded data removed]",
            "text/plain": [
              "<Figure size 700x400 with 1 Axes>"
            ]
          },
          "metadata": {
            "tags": [],
            "needs_background": "light"
          }
        }
      ]
    },
    {
      "cell_type": "markdown",
      "metadata": {
        "colab_type": "text",
        "id": "162Xn5Ut826j"
      },
      "source": [
        "### Distribution of Attributes"
      ]
    },
    {
      "cell_type": "code",
      "metadata": {
        "colab_type": "code",
        "id": "uzFdCz9j826m",
        "colab": {}
      },
      "source": [
        "no_fn = df.drop(\"filename\", axis=1)"
      ],
      "execution_count": null,
      "outputs": []
    },
    {
      "cell_type": "code",
      "metadata": {
        "colab_type": "code",
        "id": "5bmo-r7N826n",
        "colab": {}
      },
      "source": [
        "totals = no_fn.add(1,axis=0).sum(axis=0)//2"
      ],
      "execution_count": null,
      "outputs": []
    },
    {
      "cell_type": "code",
      "metadata": {
        "colab_type": "code",
        "id": "9HOJfJgq826p",
        "colab": {}
      },
      "source": [
        "value = list(np.linspace(0.3,0.8, num=40))\n",
        "N = 40\n",
        "HSV_tuples = [(0.01, 0.9, value[x]) for x in range(N)]\n",
        "RGB_tuples = map(lambda x: colorsys.hsv_to_rgb(*x), HSV_tuples)\n",
        "list_rgb = list(RGB_tuples)[::-1]"
      ],
      "execution_count": null,
      "outputs": []
    },
    {
      "cell_type": "code",
      "metadata": {
        "colab_type": "code",
        "id": "zh-_BZKJ826r",
        "colab": {
          "base_uri": "https://localhost:8080/",
          "height": 407
        },
        "outputId": "5bd7e5e7-9b76-4c62-ec33-a1c88468f33b"
      },
      "source": [
        "fig = plt.figure(figsize=(9,4),dpi=100)\n",
        "\n",
        "plt.rc('axes', axisbelow=True)\n",
        "plt.grid()\n",
        "barlist = plt.bar(totals.sort_values(ascending=False).index, totals.sort_values(ascending=False), align=\"center\", edgecolor=\"black\")\n",
        "plt.xticks(rotation='vertical')\n",
        "for i in range(len(barlist)):\n",
        "    barlist[i].set_color(list_rgb[i])\n",
        "    barlist[i].set_edgecolor(\"black\")\n",
        "plt.ylabel(\"Total Occurrences\")\n",
        "plt.tight_layout()\n",
        "plt.savefig(args.ATTRIBUTE_DISTRIBUTION, dpi=300)\n",
        "plt.show()"
      ],
      "execution_count": null,
      "outputs": [
        {
          "output_type": "display_data",
          "data": {
            "image/png": "[encoded data removed]",
            "text/plain": [
              "<Figure size 900x400 with 1 Axes>"
            ]
          },
          "metadata": {
            "tags": [],
            "needs_background": "light"
          }
        }
      ]
    },
    {
      "cell_type": "markdown",
      "metadata": {
        "colab_type": "text",
        "id": "AnPwn7lC826t"
      },
      "source": [
        "## Create numpy files"
      ]
    },
    {
      "cell_type": "code",
      "metadata": {
        "colab_type": "code",
        "id": "-nmxGUwVDcYQ",
        "colab": {
          "base_uri": "https://localhost:8080/",
          "height": 168
        },
        "outputId": "8377d0cb-fe05-415a-c86d-f7a0d577b3f4"
      },
      "source": [
        "Data_Generation(args, df)"
      ],
      "execution_count": null,
      "outputs": [
        {
          "output_type": "stream",
          "text": [
            "Attribute Eyeglasses found 12000 examples.\n",
            "Looking for file: /content/CelebA/categorical/training_data_128_128_Eyeglasses_12000.npy\n",
            "Loading previous training pickle...\n",
            "Attribute Rosy_Cheeks found 12000 examples.\n",
            "Looking for file: /content/CelebA/categorical/training_data_128_128_Rosy_Cheeks_12000.npy\n",
            "Loading previous training pickle...\n",
            "Attribute Goatee found 12000 examples.\n",
            "Looking for file: /content/CelebA/categorical/training_data_128_128_Goatee_12000.npy\n",
            "Loading previous training pickle...\n"
          ],
          "name": "stdout"
        }
      ]
    },
    {
      "cell_type": "markdown",
      "metadata": {
        "colab_type": "text",
        "id": "vHaosi-7ebvp"
      },
      "source": [
        "# 2) Conditional DCGAN"
      ]
    },
    {
      "cell_type": "markdown",
      "metadata": {
        "colab_type": "text",
        "id": "XDrmPOFuhp0t"
      },
      "source": [
        "## Loading the Data - conditional GAN\n"
      ]
    },
    {
      "cell_type": "code",
      "metadata": {
        "colab_type": "code",
        "id": "ridcPnM_IUJI",
        "colab": {
          "base_uri": "https://localhost:8080/",
          "height": 34
        },
        "outputId": "e2af4df9-44d1-4b91-abdd-5c73c84e53e3"
      },
      "source": [
        "X.shape, y.shape"
      ],
      "execution_count": null,
      "outputs": [
        {
          "output_type": "execute_result",
          "data": {
            "text/plain": [
              "((36000, 128, 128, 3), (36000,))"
            ]
          },
          "metadata": {
            "tags": []
          },
          "execution_count": 6
        }
      ]
    },
    {
      "cell_type": "code",
      "metadata": {
        "colab_type": "code",
        "id": "VSq94CsJH3xz",
        "colab": {}
      },
      "source": [
        "X, y = Load_Data(args)"
      ],
      "execution_count": null,
      "outputs": []
    },
    {
      "cell_type": "code",
      "metadata": {
        "colab_type": "code",
        "id": "hek2y1ZthsE-",
        "colab": {}
      },
      "source": [
        ""
      ],
      "execution_count": null,
      "outputs": []
    },
    {
      "cell_type": "markdown",
      "metadata": {
        "colab_type": "text",
        "id": "ABMOYw_bhxYN"
      },
      "source": [
        "## Training"
      ]
    },
    {
      "cell_type": "code",
      "metadata": {
        "colab_type": "code",
        "id": "eZTTtKRunqpL",
        "colab": {}
      },
      "source": [
        "# initialize models\n",
        "# size of the latent space\n",
        "latent_dim = 100\n",
        "# create the discriminator\n",
        "d_model = model.define_cond_discriminator(args)\n",
        "# create the generator\n",
        "g_model = model.define_cond_generator(100, args)\n",
        "# create the gan\n",
        "gan_model = model.define_cond_gan(g_model, d_model)"
      ],
      "execution_count": null,
      "outputs": []
    },
    {
      "cell_type": "code",
      "metadata": {
        "colab_type": "code",
        "id": "uMRGdu54ORLa",
        "colab": {}
      },
      "source": [
        "train.Training(g_model, d_model, gan_model, X, y, latent_dim, args, n_epochs=10000, prefix=\"final_\", epoch_start=0)"
      ],
      "execution_count": null,
      "outputs": []
    },
    {
      "cell_type": "code",
      "metadata": {
        "colab_type": "code",
        "id": "E5DSjEK_827A",
        "colab": {}
      },
      "source": [
        "# ONLY here is the prefix not ending with _ due to the pattern matching process of finding the right file\n",
        "#n_epoch = load_latest_model(d_model, g_model, os.path.join(FACEDATADIR, \"checkpoints\"), prefix=\"full40_cDCGAN\")"
      ],
      "execution_count": null,
      "outputs": []
    },
    {
      "cell_type": "code",
      "metadata": {
        "colab_type": "code",
        "id": "qyWoG9hm827C",
        "colab": {}
      },
      "source": [
        "# If we already have some pretrained weights, load it\n",
        "import glob\n",
        "#epoch =  Epich number\n",
        "\n",
        "# check if the model already exists.\n",
        "# if it exist, that means we have already trained it before, \n",
        "# and will use these weights, it will start training from where we left off.\n",
        "PATH_MODEL = os.path.join(args.CHECKPOINTS, \"*.h5\")\n",
        "\n",
        "if glob.glob(PATH_MODEL):\n",
        "  d_model.load_weights(os.path.join(args.CHECKPOINTS,f\"final_cgan_discriminator_epoch_{epoch}.h5\"))\n",
        "  g_model.load_weights(os.path.join(args.CHECKPOINTS,f\"final_cgan_generator_epoch_{epoch}.h5\"))\n",
        "  epoch = epoch + 1"
      ],
      "execution_count": null,
      "outputs": []
    },
    {
      "cell_type": "code",
      "metadata": {
        "colab_type": "code",
        "id": "r5pya_neo8b9",
        "scrolled": true,
        "colab": {}
      },
      "source": [
        "train(g_model, d_model, gan_model, X,y, latent_dim, n_epochs=10000, n_batch=128, prefix=\"final_\", n_classes=3, epoch_start=0)"
      ],
      "execution_count": null,
      "outputs": []
    },
    {
      "cell_type": "markdown",
      "metadata": {
        "colab_type": "text",
        "id": "CceRl5Fp827G"
      },
      "source": [
        "# 3) Visualize model performance"
      ]
    },
    {
      "cell_type": "markdown",
      "metadata": {
        "colab_type": "text",
        "id": "QsDnH1KA827G"
      },
      "source": [
        "## Loss"
      ]
    },
    {
      "cell_type": "code",
      "metadata": {
        "colab_type": "code",
        "id": "1hzQfcTS827G",
        "colab": {}
      },
      "source": [
        "training_log = pd.read_csv(os.path.join(LOG,\"final_training.csv\"), delimiter=\";\")"
      ],
      "execution_count": null,
      "outputs": []
    },
    {
      "cell_type": "code",
      "metadata": {
        "colab_type": "code",
        "id": "uIwEMFkl827I",
        "colab": {}
      },
      "source": [
        "training_log.head()"
      ],
      "execution_count": null,
      "outputs": []
    },
    {
      "cell_type": "code",
      "metadata": {
        "colab_type": "code",
        "id": "5pAO98Ik827K",
        "colab": {}
      },
      "source": [
        "fig = plt.figure(figsize=(15,7))\n",
        "plt.grid()\n",
        "plt.plot(training_log[\" d_loss_real\"], c=\"#900d0d\", label=\"D loss real\", linewidth=3, alpha=0.85)\n",
        "plt.plot(training_log[\" d_loss_fake\"], c=\"#cf1b1b\", label=\"D loss fake\", linewidth=3, alpha=0.85)\n",
        "plt.plot(training_log[\" g_loss\"], c=\"#206a5d\", label=\"G loss\", linewidth=3, alpha=0.85)\n",
        "plt.legend()\n",
        "plt.title(\"Losses over Epochs (Binary Cross Entropy)\")\n",
        "plt.xticks([0,10,20,30,40,50,60,70,80,90,95])\n",
        "plt.savefig(os.path.join(LOG,\"final_training_fig.png\"), dpi=300)\n",
        "plt.show()"
      ],
      "execution_count": null,
      "outputs": []
    },
    {
      "cell_type": "markdown",
      "metadata": {
        "colab_type": "text",
        "id": "4HamjGt0827M"
      },
      "source": [
        "## Save randomly generated pictures"
      ]
    },
    {
      "cell_type": "code",
      "metadata": {
        "colab_type": "code",
        "id": "KnMdjlle827M",
        "colab": {}
      },
      "source": [
        "[fake_pic, fake_label], _ = generate_fake_samples(g_model, 100, 300) # 300 instances"
      ],
      "execution_count": null,
      "outputs": []
    },
    {
      "cell_type": "code",
      "metadata": {
        "colab_type": "code",
        "id": "mVbUu9Rq827O",
        "colab": {}
      },
      "source": [
        "for i in range(300):\n",
        "    # rescale to 0-255, reshape and cast type \n",
        "    pic_data = (((fake_pic[i]+1)/2).reshape(128,128,3)*255).astype(np.uint8)\n",
        "    pic = Image.fromarray(pic_data)\n",
        "    pic.save(os.path.join(RANDOM_SAVE,f\"{CLASS_HEADER[fake_label[i]]}_{i}.png\"))"
      ],
      "execution_count": null,
      "outputs": []
    },
    {
      "cell_type": "markdown",
      "metadata": {
        "colab_type": "text",
        "id": "S_wcRye-827Q"
      },
      "source": [
        "## [Explore latent space](https://machinelearningmastery.com/how-to-interpolate-and-perform-vector-arithmetic-with-faces-using-a-generative-adversarial-network/)"
      ]
    },
    {
      "cell_type": "code",
      "metadata": {
        "colab_type": "code",
        "id": "QZVtNSUD827Q",
        "colab": {}
      },
      "source": [
        "# uniform interpolation between two points in latent space\n",
        "def interpolate_points(p1, p2, n_steps=10):\n",
        "    # interpolate ratios between the points\n",
        "    ratios = np.linspace(0, 1, num=n_steps)\n",
        "    # linear interpolate vectors\n",
        "    vectors = list()\n",
        "    for ratio in ratios:\n",
        "        v = (1.0 - ratio) * p1 + ratio * p2\n",
        "        vectors.append(v)\n",
        "    #print(vectors)\n",
        "    return np.stack(vectors)"
      ],
      "execution_count": null,
      "outputs": []
    },
    {
      "cell_type": "code",
      "metadata": {
        "colab_type": "code",
        "id": "5Zgoh_2_827S",
        "colab": {}
      },
      "source": [
        "# generate points in latent space\n",
        "n = 20\n",
        "pts = generate_latent_points(100, n)"
      ],
      "execution_count": null,
      "outputs": []
    },
    {
      "cell_type": "code",
      "metadata": {
        "colab_type": "code",
        "id": "9ZAo8Yvp827U",
        "colab": {}
      },
      "source": [
        "interpolated = interpolate_points(pts[0][1], pts[0][1+1])"
      ],
      "execution_count": null,
      "outputs": []
    },
    {
      "cell_type": "code",
      "metadata": {
        "colab_type": "code",
        "id": "BIJ94KWJ827X",
        "colab": {},
        "outputId": "481e8b36-274b-4de8-feb9-679db0c6572a"
      },
      "source": [
        "interpolated.shape, (np.ones((10,))*pts[1][i])"
      ],
      "execution_count": null,
      "outputs": [
        {
          "output_type": "execute_result",
          "data": {
            "text/plain": [
              "((10, 100), (10,))"
            ]
          },
          "metadata": {
            "tags": []
          },
          "execution_count": 65
        }
      ]
    },
    {
      "cell_type": "code",
      "metadata": {
        "colab_type": "code",
        "id": "8l5D1HE7827Z",
        "colab": {}
      },
      "source": [
        "# uniform interpolation between two points in latent space\n",
        "def interpolate_points(p1, p2, n_steps=10):\n",
        "    # interpolate ratios between the points\n",
        "    ratios = np.linspace(0, 1, num=n_steps)\n",
        "    # linear interpolate vectors\n",
        "    vectors = list()\n",
        "    for ratio in ratios:\n",
        "        v = (1.0 - ratio) * p1 + ratio * p2\n",
        "        vectors.append(v)\n",
        "    #print(vectors)\n",
        "    return np.stack(vectors)"
      ],
      "execution_count": null,
      "outputs": []
    },
    {
      "cell_type": "code",
      "metadata": {
        "id": "pfRXyB6ko7lO",
        "colab_type": "code",
        "colab": {}
      },
      "source": [
        "def save_latent_interpolations(path, n):\n",
        "    for i in range(n):\n",
        "        # generate points in latent space\n",
        "        n = 6\n",
        "        pts = generate_latent_points(100, n)\n",
        "\n",
        "        # interpolate pairs\n",
        "        results = None\n",
        "        class_label = 0\n",
        "        for i in range(0, n, 2):\n",
        "            # interpolate points in latent space\n",
        "            interpolated = interpolate_points(pts[0][i], pts[0][i+1])\n",
        "            # generate images\n",
        "            X = g_model.predict([interpolated, np.ones((10,))*class_label])\n",
        "            class_label = class_label + 1\n",
        "            # scale from [-1,1] to [0,1]\n",
        "            X = (X + 1) / 2.0\n",
        "            if results is None:\n",
        "                results = X\n",
        "            else:\n",
        "                results = np.vstack((results, X))\n",
        "        # plot the result\n",
        "        #plot_generated(results, 10)\n",
        "\n",
        "        fig, rows = plt.subplots(nrows=3, ncols=10, figsize=(25,7))\n",
        "        i = 0\n",
        "        for row in rows:\n",
        "            for ax in row:\n",
        "                ax.imshow(results[i])\n",
        "                ax.axis(\"off\")\n",
        "                i=i+1\n",
        "\n",
        "        #plt.tight_layout(rect=[0, 0.03, 1, 0.95])\n",
        "        plt.tight_layout()\n",
        "        #plt.suptitle(\"Latent Space Interpolation for Glasses, Rosy Cheeks and Goatee\")\n",
        "        #plt.show()\n",
        "        plt.savefig(os.path.join(path, f\"latent_space_interpolation_{np.random.randint(0,999999)}.png\"), dpi=300)\n",
        "        plt.close(fig=fig)"
      ],
      "execution_count": null,
      "outputs": []
    }
  ]
}